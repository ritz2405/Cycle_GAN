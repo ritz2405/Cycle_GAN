{
 "cells": [
  {
   "cell_type": "code",
   "execution_count": 1,
   "id": "759d79b9",
   "metadata": {},
   "outputs": [],
   "source": [
    "from os import listdir\n",
    "from numpy import asarray\n",
    "from numpy import vstack\n",
    "from keras.utils import img_to_array\n",
    "from keras.utils import load_img\n",
    "from matplotlib import pyplot as plt\n",
    "import numpy as np"
   ]
  },
  {
   "cell_type": "code",
   "execution_count": 2,
   "id": "06ecb887",
   "metadata": {},
   "outputs": [],
   "source": [
    "def load_images(path, size=(256,256)):\n",
    "\tdata_list = list()\n",
    "\t# enumerate filenames in directory, assume all are images\n",
    "\tfor filename in listdir(path):\n",
    "\t\t# load and resize the image\n",
    "\t\tpixels = load_img(path + filename, target_size=size)\n",
    "\t\t# convert to numpy array\n",
    "\t\tpixels = img_to_array(pixels)\n",
    "\t\t# store\n",
    "\t\tdata_list.append(pixels)\n",
    "\treturn asarray(data_list)"
   ]
  },
  {
   "cell_type": "code",
   "execution_count": 4,
   "id": "88e22d55",
   "metadata": {},
   "outputs": [
    {
     "name": "stdout",
     "output_type": "stream",
     "text": [
      "loaded dataA: (1072, 256, 256, 3)\n"
     ]
    }
   ],
   "source": [
    "path = 'data/'\n",
    "\n",
    "dataA_all = load_images(path + 'trainA/')\n",
    "print('loaded dataA:', dataA_all.shape)"
   ]
  },
  {
   "cell_type": "code",
   "execution_count": null,
   "id": "51ea0f0d",
   "metadata": {},
   "outputs": [],
   "source": []
  }
 ],
 "metadata": {
  "kernelspec": {
   "display_name": "Python 3 (ipykernel)",
   "language": "python",
   "name": "python3"
  },
  "language_info": {
   "codemirror_mode": {
    "name": "ipython",
    "version": 3
   },
   "file_extension": ".py",
   "mimetype": "text/x-python",
   "name": "python",
   "nbconvert_exporter": "python",
   "pygments_lexer": "ipython3",
   "version": "3.10.11"
  }
 },
 "nbformat": 4,
 "nbformat_minor": 5
}
